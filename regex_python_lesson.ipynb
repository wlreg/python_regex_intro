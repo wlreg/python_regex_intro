{
  "cells": [
    {
      "cell_type": "markdown",
      "metadata": {
        "id": "xXomsQTum8u_"
      },
      "source": [
        "# Regular Expressions"
      ]
    },
    {
      "cell_type": "markdown",
      "metadata": {
        "id": "i6GgeZjym8vC"
      },
      "source": [
        "# Tasks today:\n",
        "1) <b>Importing</b> <br>\n",
        "2) <b>Using Regular Expressions</b> <br>\n",
        " &nbsp;&nbsp;&nbsp;&nbsp; a) re.compile() <br>\n",
        " &nbsp;&nbsp;&nbsp;&nbsp; b) re.match() <br>\n",
        " &nbsp;&nbsp;&nbsp;&nbsp; c) re.findall() <br>\n",
        " &nbsp;&nbsp;&nbsp;&nbsp; d) re.search() <br>\n",
        "3) <b>Sets</b> <br>\n",
        " &nbsp;&nbsp;&nbsp;&nbsp; a) Integer Ranges <br>\n",
        " &nbsp;&nbsp;&nbsp;&nbsp; b) Character Ranges <br>\n",
        "4) <b>Counting Occurences</b> <br>\n",
        " &nbsp;&nbsp;&nbsp;&nbsp; a) {x} <br>\n",
        " &nbsp;&nbsp;&nbsp;&nbsp; b) {, x} <br>\n",
        " &nbsp;&nbsp;&nbsp;&nbsp; c) {?} <br>\n",
        " &nbsp;&nbsp;&nbsp;&nbsp; d) {*} <br>\n",
        " &nbsp;&nbsp;&nbsp;&nbsp; e) {+} <br>\n",
        "5) <b>In-Class Exercise #1</b> <br>\n",
        "6) <b>Escaping Characters</b> <br>\n",
        "7) <b>Grouping</b> <br>\n",
        "8) <b>In-Class Exercise #2</b> <br>\n",
        "9) <b>Opening a File</b> <br>\n",
        " &nbsp;&nbsp;&nbsp;&nbsp; a) open() <br>\n",
        " &nbsp;&nbsp;&nbsp;&nbsp; b) with open() <br>\n",
        " &nbsp;&nbsp;&nbsp;&nbsp; c) re.match() <br>\n",
        " &nbsp;&nbsp;&nbsp;&nbsp; d) re.search() <br>\n",
        " &nbsp;&nbsp;&nbsp;&nbsp; e) Store the String in a Variable <br>\n",
        "10) <b>Regex Project</b> <br>"
      ]
    },
    {
      "cell_type": "markdown",
      "metadata": {
        "id": "VsXUDVsdm8vD"
      },
      "source": [
        "### Importing <br>\n",
        "<p>Regular Expressions are universal throughout most programming languages... They are generally imported through the module 're'.</p>"
      ]
    },
    {
      "cell_type": "code",
      "execution_count": 2,
      "metadata": {
        "id": "K1p2tk3Cm8vE"
      },
      "outputs": [],
      "source": [
        "# import re\n",
        "import re"
      ]
    },
    {
      "cell_type": "markdown",
      "metadata": {
        "id": "C-LZlBImm8vF"
      },
      "source": [
        "### Using Regular Expressions <br>\n",
        "<p>Regular expressions give us the ability to search for patterns within text, strings, files, etc. They serve several uses, such as; security measures, searching, filtering, pattern recognition, and more...</p>"
      ]
    },
    {
      "cell_type": "markdown",
      "metadata": {
        "id": "gy-iEO1cm8vF"
      },
      "source": [
        "##### re.compile()"
      ]
    },
    {
      "cell_type": "code",
      "execution_count": null,
      "metadata": {
        "id": "6F86r5Whm8vF"
      },
      "outputs": [],
      "source": [
        "# using compile, pre determines the string to be used in regular expression methods\n",
        "\n",
        "pattern = re.compile('abcd')\n"
      ]
    },
    {
      "cell_type": "markdown",
      "metadata": {
        "id": "TwvBfw8Ym8vG"
      },
      "source": [
        "##### re.match()\n",
        "\n",
        "1.   List item\n",
        "2.   List item\n",
        "\n"
      ]
    },
    {
      "cell_type": "code",
      "execution_count": null,
      "metadata": {
        "colab": {
          "base_uri": "https://localhost:8080/"
        },
        "id": "_ry56UTtm8vG",
        "outputId": "04cc36fc-8bcf-43af-9e18-e2a4d7f60f20"
      },
      "outputs": [
        {
          "output_type": "stream",
          "name": "stdout",
          "text": [
            "<re.Match object; span=(0, 4), match='abcd'>\n",
            "(0, 4)\n"
          ]
        }
      ],
      "source": [
        "match = pattern.match('abcd123')\n",
        "print(match)\n",
        "\n",
        "# Accessing the span of the match\n",
        "\n",
        "print(match.span())\n"
      ]
    },
    {
      "cell_type": "markdown",
      "metadata": {
        "id": "S-ngblEgm8vH"
      },
      "source": [
        "##### re.findall()"
      ]
    },
    {
      "cell_type": "code",
      "execution_count": null,
      "metadata": {
        "colab": {
          "base_uri": "https://localhost:8080/"
        },
        "id": "8yPJGJWHm8vH",
        "outputId": "ea5f0ac0-882c-4efa-cbfa-31873994f52d"
      },
      "outputs": [
        {
          "output_type": "stream",
          "name": "stdout",
          "text": [
            "['abcd', 'abcd', 'abcd']\n"
          ]
        }
      ],
      "source": [
        "finders = pattern.findall('123abcd abcd123 abcd abcabc acb')\n",
        "print(finders)"
      ]
    },
    {
      "cell_type": "markdown",
      "metadata": {
        "id": "A6uOORd6m8vI"
      },
      "source": [
        "##### re.search()"
      ]
    },
    {
      "cell_type": "code",
      "execution_count": null,
      "metadata": {
        "colab": {
          "base_uri": "https://localhost:8080/"
        },
        "id": "2Aj_-TUcm8vI",
        "outputId": "2c0a8d30-6ebd-46c7-a90f-e3694a4fe6f3"
      },
      "outputs": [
        {
          "output_type": "stream",
          "name": "stdout",
          "text": [
            "<re.Match object; span=(12, 16), match='abcd'>\n",
            "(12, 16) <class 'tuple'>\n"
          ]
        }
      ],
      "source": [
        "random_string = '123 123 234 abcd abc'\n",
        "search = pattern.search(random_string)\n",
        "print(search)\n",
        "\n",
        "span = search.span()\n",
        "print(span, type(span))"
      ]
    },
    {
      "cell_type": "markdown",
      "metadata": {
        "id": "QxeQdn47m8vI"
      },
      "source": [
        "### Sets <br>\n",
        "<p>The following cells will allow you to use regular expressions to search for certain values within a range such as numbers 1 through 4.</p>"
      ]
    },
    {
      "cell_type": "markdown",
      "metadata": {
        "id": "FiTY54Vmm8vJ"
      },
      "source": [
        "##### [a-z] or [A-Z] - any lowercase/uppercase letters from a to z<br/>[^2] - anything that's not 2"
      ]
    },
    {
      "cell_type": "markdown",
      "metadata": {
        "id": "urP7ed5fm8vJ"
      },
      "source": [
        "##### Integer Ranges"
      ]
    },
    {
      "cell_type": "code",
      "execution_count": null,
      "metadata": {
        "colab": {
          "base_uri": "https://localhost:8080/"
        },
        "id": "BxgdgSB2m8vJ",
        "outputId": "3e1bb927-98c6-48c5-d161-66ada3286126"
      },
      "outputs": [
        {
          "output_type": "stream",
          "name": "stdout",
          "text": [
            "673\n"
          ]
        }
      ],
      "source": [
        "pattern_int = re.compile('[0-7][7-9][0-3]')\n",
        "\n",
        "random_numbers = pattern_int.search('67383')\n",
        "span = random_numbers.span()\n",
        "print(random_numbers[span[0]])"
      ]
    },
    {
      "cell_type": "markdown",
      "metadata": {
        "id": "LuNtSjXbm8vK"
      },
      "source": [
        "##### Character Ranges"
      ]
    },
    {
      "cell_type": "code",
      "execution_count": null,
      "metadata": {
        "colab": {
          "base_uri": "https://localhost:8080/"
        },
        "id": "UL7QHRZRm8vK",
        "outputId": "c4bb1b3e-988f-4b53-f2d7-b2d662c50b1c"
      },
      "outputs": [
        {
          "output_type": "stream",
          "name": "stdout",
          "text": [
            "['Hel', 'The', 'And']\n"
          ]
        }
      ],
      "source": [
        "## returns a match where a character matches position of reg ex statement\n",
        "## this is just saying find all instances in a string that has a capital letter \n",
        "## followed by two lowercase letters\n",
        "\n",
        "char_pattern = re.compile('[A-Z][a-z][a-z]')\n",
        "found = char_pattern.findall('Hello There Mr. Anderson')\n",
        "print(found)"
      ]
    },
    {
      "cell_type": "markdown",
      "metadata": {
        "id": "JxsEUn_Wm8vK"
      },
      "source": [
        "### Counting Occurences"
      ]
    },
    {
      "cell_type": "markdown",
      "metadata": {
        "id": "O06LjONdm8vK"
      },
      "source": [
        "##### {x} - something that occurs {num_of_times}"
      ]
    },
    {
      "cell_type": "code",
      "execution_count": 3,
      "metadata": {
        "id": "4OMUeOyom8vL",
        "colab": {
          "base_uri": "https://localhost:8080/"
        },
        "outputId": "14857fbd-d2ab-49bf-da4f-698f78f6ca5b"
      },
      "outputs": [
        {
          "output_type": "stream",
          "name": "stdout",
          "text": [
            "['An33']\n"
          ]
        }
      ],
      "source": [
        "char_pattern_count = re.compile('[A-Z][a-z][0-3]{2}')\n",
        "\n",
        "found_count = char_pattern_count.findall('Hello Mr. An33derson')\n",
        "print(found_count)"
      ]
    },
    {
      "cell_type": "markdown",
      "metadata": {
        "id": "7gD5-b_Qm8vL"
      },
      "source": [
        "##### {x, x} - something that occurs between x and x times"
      ]
    },
    {
      "cell_type": "code",
      "execution_count": 4,
      "metadata": {
        "id": "8BvLIWGQm8vL",
        "colab": {
          "base_uri": "https://localhost:8080/"
        },
        "outputId": "d94a7fdb-caa1-4163-dc7a-d1f399061f12"
      },
      "outputs": [
        {
          "output_type": "stream",
          "name": "stdout",
          "text": [
            "['m', 'm', 'm', 'mmm', 'mmmmm', 'm']\n"
          ]
        }
      ],
      "source": [
        "random_pattern = re.compile('m{1,5}')\n",
        "\n",
        "random_statement = random_pattern.findall('This is an example of a regular expression trying to find one m, more than one mmm or five mmmmmms')\n",
        "print(random_statement)\n",
        "\n",
        "## since last group of m's has 6 in a row is gets split into 5 and 1 in output below"
      ]
    },
    {
      "cell_type": "markdown",
      "metadata": {
        "id": "IRYZiDFLm8vL"
      },
      "source": [
        "##### ? - something that occurs 0 or 1 time"
      ]
    },
    {
      "cell_type": "code",
      "execution_count": 5,
      "metadata": {
        "id": "uCGsbTz9m8vM",
        "colab": {
          "base_uri": "https://localhost:8080/"
        },
        "outputId": "ee1331ce-6838-490b-cbf4-cde1a0db3d34"
      },
      "outputs": [
        {
          "output_type": "stream",
          "name": "stdout",
          "text": [
            "['Mrs']\n"
          ]
        }
      ],
      "source": [
        "pattern = re.compile('Mrss?')\n",
        "\n",
        "found_pat = pattern.findall('Hello M there Mr. Anderson, how is Mrs. Anderson and Ms. Anderson?')\n",
        "print(found_pat)"
      ]
    },
    {
      "cell_type": "markdown",
      "metadata": {
        "id": "Z_8oyERBm8vM"
      },
      "source": [
        "##### * - something that occurs at least 0 times"
      ]
    },
    {
      "cell_type": "code",
      "execution_count": 6,
      "metadata": {
        "id": "scgvzYppm8vM",
        "colab": {
          "base_uri": "https://localhost:8080/"
        },
        "outputId": "8eb53d0d-c61e-4fd6-8e5b-cf96349a9c71"
      },
      "outputs": [
        {
          "output_type": "stream",
          "name": "stdout",
          "text": [
            "['MMMs', 's', 'Ms', 's', 's', 'Ms', 's', 's', 's', 's', 's']\n"
          ]
        }
      ],
      "source": [
        "pattern_m = re.compile('M*s')\n",
        "\n",
        "found_m = pattern_m.findall('MMMs name is Ms. Smith. This is Mssssss')\n",
        "print(found_m)"
      ]
    },
    {
      "cell_type": "markdown",
      "metadata": {
        "id": "p9RyvYofm8vM"
      },
      "source": [
        "##### + - something that occurs at least once"
      ]
    },
    {
      "cell_type": "code",
      "execution_count": 7,
      "metadata": {
        "id": "rkqNoe1nm8vM",
        "colab": {
          "base_uri": "https://localhost:8080/"
        },
        "outputId": "8cd4f5af-4709-4739-8831-a68779061c56"
      },
      "outputs": [
        {
          "output_type": "stream",
          "name": "stdout",
          "text": [
            "['Ms', 'MMMMMMMMs']\n"
          ]
        }
      ],
      "source": [
        "pattern_again = re.compile('M+s')\n",
        "\n",
        "found_patt = pattern_again.findall('My name is Ms. Smith. This is MMMMMMMMsssssssss')\n",
        "print(found_patt)"
      ]
    },
    {
      "cell_type": "markdown",
      "metadata": {
        "id": "kSzcAH1Tm8vN"
      },
      "source": [
        "##### In-class exercise 1: \n",
        "\n",
        "Use a regular expression to find every number in the given string"
      ]
    },
    {
      "cell_type": "code",
      "execution_count": 8,
      "metadata": {
        "id": "OQ1HwXDxm8vN",
        "colab": {
          "base_uri": "https://localhost:8080/"
        },
        "outputId": "1640ea37-0959-44a8-e3f1-28a705f5bcf8"
      },
      "outputs": [
        {
          "output_type": "stream",
          "name": "stdout",
          "text": [
            "['10909090', '1', '2']\n"
          ]
        }
      ],
      "source": [
        "my_string = 'This string has 10909090 numbers. But is only 1 string, I hope you solve this 2day.'\n",
        "\n",
        "patt_attack = re.compile('[0-9]+')\n",
        "\n",
        "patt_output = patt_attack.findall('This string has 10909090 numbers. But is only 1 string, I hope you solve this 2day.')\n",
        "print(patt_output)\n"
      ]
    },
    {
      "cell_type": "markdown",
      "metadata": {
        "id": "XmVFaOtIm8vN"
      },
      "source": [
        "### Escaping Characters"
      ]
    },
    {
      "cell_type": "markdown",
      "metadata": {
        "id": "iKWX09uAm8vN"
      },
      "source": [
        "##### \\w - look for any Unicode character<br/>\\W - look for anything that isnt a Unicode character\n",
        "\n",
        "[History on Unicode](http://unicode.org/standard/WhatIsUnicode.html)\n",
        "\n",
        "[More on Unicode Characters](https://en.wikipedia.org/wiki/List_of_Unicode_characters)"
      ]
    },
    {
      "cell_type": "code",
      "execution_count": 10,
      "metadata": {
        "id": "5PX8BmVJm8vO",
        "colab": {
          "base_uri": "https://localhost:8080/"
        },
        "outputId": "d4bb62b4-c42f-4b7c-d02e-91f1de32e06a"
      },
      "outputs": [
        {
          "output_type": "stream",
          "name": "stdout",
          "text": [
            "🔥\n",
            "['This', 'is', 'a', 'sentence', 'With', 'an', 'exclamation', 'mark', 'at', 'the', 'end']\n",
            "[' ', ' ', ' ', '. ', ' ', ', ', ' ', ' ', ' ', ' ', '!']\n"
          ]
        }
      ],
      "source": [
        "print('\\U0001f525')\n",
        "\n",
        "pattern_1 = re.compile('[\\w]+')\n",
        "pattern_2 = re.compile('[\\W]+')\n",
        "\n",
        "found_1 = pattern_1.findall('This is a sentence. With an, exclamation mark at the end!')\n",
        "found_2 = pattern_2.findall('This is a sentence. With an, exclamation mark at the end!')\n",
        "\n",
        "print(found_1)\n",
        "print(found_2)"
      ]
    },
    {
      "cell_type": "markdown",
      "metadata": {
        "id": "1wln41jJm8vO"
      },
      "source": [
        "##### \\d - look for any digit 0-9<br/>\\D - look for anything that isnt a digit"
      ]
    },
    {
      "cell_type": "code",
      "execution_count": 11,
      "metadata": {
        "id": "wcl61wczm8vO",
        "colab": {
          "base_uri": "https://localhost:8080/"
        },
        "outputId": "0f7b8c0e-a238-444c-a575-bc135d94602c"
      },
      "outputs": [
        {
          "output_type": "stream",
          "name": "stdout",
          "text": [
            "['7th', '27th', '3rd', '1st', '30th']\n"
          ]
        }
      ],
      "source": [
        "pattern_name = re.compile('\\d{1,2}[a-z]{2}')\n",
        "\n",
        "found_date = pattern_name.findall('Today is the 7th, in 20 days it will be the 27th, 3rd, 1st, 30th')\n",
        "print(found_date)"
      ]
    },
    {
      "cell_type": "markdown",
      "metadata": {
        "id": "qaQCnwlDm8vO"
      },
      "source": [
        "##### \\s - look for any white space<br/>\\S - look for anything that isnt whitespace"
      ]
    },
    {
      "cell_type": "code",
      "execution_count": 12,
      "metadata": {
        "id": "3s7LQOsom8vO",
        "colab": {
          "base_uri": "https://localhost:8080/"
        },
        "outputId": "f35f1085-2300-4ea3-9125-41b98856d2c7"
      },
      "outputs": [
        {
          "output_type": "stream",
          "name": "stdout",
          "text": [
            "[' ', ' ', ' ', ' ', ' ']\n",
            "['Are', 'you', 'afraid', 'of', 'the', 'dark']\n"
          ]
        }
      ],
      "source": [
        "pattern_no_space = re.compile('\\S[a-z]+')\n",
        "pattern_space = re.compile('\\s+')\n",
        "\n",
        "found_space = pattern_space.findall('Are you afraid of the dark?')\n",
        "found_dark = pattern_no_space.findall('Are you afraid of the dark?')\n",
        "\n",
        "print(found_space)\n",
        "print(found_dark)"
      ]
    },
    {
      "cell_type": "markdown",
      "metadata": {
        "id": "dTkJD7c4m8vP"
      },
      "source": [
        "##### \\b - look for boundaries or edges of a word<br/>\\B - look for anything that isnt a boundary"
      ]
    },
    {
      "cell_type": "code",
      "execution_count": 13,
      "metadata": {
        "id": "M_vAWMpHm8vP",
        "colab": {
          "base_uri": "https://localhost:8080/"
        },
        "outputId": "89d56a37-d513-4760-d300-f7450bfbc064"
      },
      "outputs": [
        {
          "output_type": "stream",
          "name": "stdout",
          "text": [
            "['TheCodingTemple']\n",
            "[]\n"
          ]
        }
      ],
      "source": [
        "pattern_bound = re.compile(r'\\bTheCodingTemple\\b')\n",
        "pattern_bound_none = re.compile(r'\\BTheCodingTemple\\B')\n",
        "\n",
        "no_found_bound = pattern_bound_none.findall('TheCodingTemple')\n",
        "found_bound = pattern_bound.findall('TheCodingTemple')\n",
        "\n",
        "print(found_bound)\n",
        "print(no_found_bound)"
      ]
    },
    {
      "cell_type": "markdown",
      "metadata": {
        "id": "euH8r9iKm8vP"
      },
      "source": [
        "### Grouping"
      ]
    },
    {
      "cell_type": "code",
      "execution_count": 16,
      "metadata": {
        "id": "OAoi-tyjm8vP",
        "colab": {
          "base_uri": "https://localhost:8080/"
        },
        "outputId": "35916ec2-da1f-4049-f1ec-0b5299001150"
      },
      "outputs": [
        {
          "output_type": "stream",
          "name": "stdout",
          "text": [
            "[('Max', 'Smith'), ('Sam', 'Darnold'), ('Lebron', 'James'), ('Michael', 'Jordan'), ('Kevin', 'Durant'), ('Patrick', 'McCormick')]\n",
            "('Max', 'Smith')\n",
            "Not a name\n",
            "('Sam', 'Darnold')\n",
            "('Lebron', 'James')\n",
            "('Michael', 'Jordan')\n",
            "('Kevin', 'Durant')\n",
            "('Patrick', 'McCormick')\n"
          ]
        }
      ],
      "source": [
        "my_string_again = 'Max Smith, aaron rodgers, Sam Darnold, Lebron James, Michael Jordan, Kevin Durant, Patrick McCormick'\n",
        "\n",
        "pattern_name = re.compile('([A-Z][a-zA-Za-z]+) ([A-Z][A-Za-z]+)')\n",
        "found_name = pattern_name.findall(my_string_again)\n",
        "print(found_name)\n",
        "\n",
        "##for loop to create group\n",
        "for name in my_string_again.split(','):\n",
        "  match = pattern_name.search(name)\n",
        "  if match:\n",
        "    print(match.groups(2))\n",
        "  else:\n",
        "    print('Not a name')\n"
      ]
    },
    {
      "cell_type": "markdown",
      "metadata": {
        "id": "1j2edFAKm8vP"
      },
      "source": [
        "##### In-class Exercise 2:\n",
        "\n",
        "Write a function using regular expressions to find the domain name in the given email addresses (and return None for the invalid email addresses)<br><b>HINT: Use '|' for either or</b>"
      ]
    },
    {
      "cell_type": "code",
      "execution_count": 25,
      "metadata": {
        "id": "XSvvSDtPm8vQ",
        "colab": {
          "base_uri": "https://localhost:8080/"
        },
        "outputId": "8e7e8415-45a4-46df-9f80-cef082c84603"
      },
      "outputs": [
        {
          "output_type": "stream",
          "name": "stdout",
          "text": [
            "None\n",
            "pocohontas1776@gmail.com\n",
            "None\n",
            "yourfavoriteband@g6.org\n",
            "None\n"
          ]
        }
      ],
      "source": [
        "my_emails = [\"jordanw@codingtemple.orgcom\", \"pocohontas1776@gmail.com\", \"helloworld@aol..com\",\n",
        "             \"yourfavoriteband@g6.org\", \"@codingtemple.com\"]\n",
        "\n",
        "\n",
        "def find_email(string):\n",
        "  \"\"\"Function that finds valid email addresses and returns 'None' if given string is invalid\"\"\"\n",
        "\n",
        "  valid_email = re.compile('\\S+@\\S+[^.][.]com|org$')\n",
        "  \n",
        "  for email in string:\n",
        "    match = valid_email.search(email)\n",
        "    if match:\n",
        "      print(email)\n",
        "    else:\n",
        "      print('None')\n",
        "\n",
        "find_email(my_emails)\n",
        "\n",
        "\n",
        "\n",
        "# You can also use the $ at the end of your compile expression -- this stops the search\n",
        "\n",
        "#.com OR .org => com|org\n",
        "\n",
        "#Expected output:\n",
        "#None\n",
        "#pocohontas1776@gmail.com\n",
        "#None\n",
        "#yourfavoriteband@g6.org\n",
        "#None\n",
        "\n",
        "\n"
      ]
    },
    {
      "cell_type": "markdown",
      "metadata": {
        "id": "TYqi5M6rm8vQ"
      },
      "source": [
        "### Opening a File <br>\n",
        "<p>Python gives us a couple ways to import files, below are the two used most often.</p>"
      ]
    },
    {
      "cell_type": "markdown",
      "metadata": {
        "id": "jQnf_vI6m8vQ"
      },
      "source": [
        "##### open()"
      ]
    },
    {
      "cell_type": "code",
      "execution_count": 28,
      "metadata": {
        "id": "en3CGA2Gm8vQ",
        "colab": {
          "base_uri": "https://localhost:8080/"
        },
        "outputId": "7c80a644-387f-4fe9-f40b-fb0a5b2b6cdd"
      },
      "outputs": [
        {
          "output_type": "stream",
          "name": "stdout",
          "text": [
            "Hawkins, Derek\tderek@codingtemple.com\t(555) 555-5555\tTeacher, Coding Temple\t@derekhawkins\n",
            "Zhai, Mo\tmozhai@codingtemple.com\t(555) 555-5554\tTeacher, Coding Temple\n",
            "Johnson, Joe\tjoejohnson@codingtemple.com\t\tJohson, Joe\n",
            "Osterberg, Sven-Erik\tgovernor@norrbotten.co.se\t\tGovernor, Norrbotten\t@sverik\n",
            ", Tim\ttim@killerrabbit.com\t\tEnchanter, Killer Rabbit Cave\n",
            "Butz, Ryan\tryanb@codingtemple.com\t(555) 555-5543\tCEO, Coding Temple\t@ryanbutz\n",
            "Doctor, The\tdoctor+companion@tardis.co.uk\t\tTime Lord, Gallifrey\n",
            "Exampleson, Example\tme@example.com\t555-555-5552\tExample, Example Co.\t@example\n",
            "Pael, Ripal\tripalp@codingtemple.com\t(555) 555-5553\tTeacher, Coding Temple\t@ripalp\n",
            "Vader, Darth\tdarth-vader@empire.gov\t(555) 555-4444\tSith Lord, Galactic Empire\t@darthvader\n",
            "Fernandez de la Vega Sanz, Maria Teresa\tmtfvs@spain.gov\t\tFirst Deputy Prime Minister, Spanish Gov\n",
            "\n"
          ]
        }
      ],
      "source": [
        "f = open('names.txt')\n",
        "data = f.read()\n",
        "\n",
        "print(data)\n",
        "f.close()"
      ]
    },
    {
      "cell_type": "markdown",
      "metadata": {
        "id": "Hw2aCiINm8vR"
      },
      "source": [
        "##### with open()"
      ]
    },
    {
      "cell_type": "code",
      "execution_count": 29,
      "metadata": {
        "id": "xHfxxf_Dm8vR",
        "colab": {
          "base_uri": "https://localhost:8080/"
        },
        "outputId": "8829d1f0-474e-4c4b-b6fa-6f74bab9ec2a"
      },
      "outputs": [
        {
          "output_type": "stream",
          "name": "stdout",
          "text": [
            "Hawkins, Derek\tderek@codingtemple.com\t(555) 555-5555\tTeacher, Coding Temple\t@derekhawkins\n",
            "Zhai, Mo\tmozhai@codingtemple.com\t(555) 555-5554\tTeacher, Coding Temple\n",
            "Johnson, Joe\tjoejohnson@codingtemple.com\t\tJohson, Joe\n",
            "Osterberg, Sven-Erik\tgovernor@norrbotten.co.se\t\tGovernor, Norrbotten\t@sverik\n",
            ", Tim\ttim@killerrabbit.com\t\tEnchanter, Killer Rabbit Cave\n",
            "Butz, Ryan\tryanb@codingtemple.com\t(555) 555-5543\tCEO, Coding Temple\t@ryanbutz\n",
            "Doctor, The\tdoctor+companion@tardis.co.uk\t\tTime Lord, Gallifrey\n",
            "Exampleson, Example\tme@example.com\t555-555-5552\tExample, Example Co.\t@example\n",
            "Pael, Ripal\tripalp@codingtemple.com\t(555) 555-5553\tTeacher, Coding Temple\t@ripalp\n",
            "Vader, Darth\tdarth-vader@empire.gov\t(555) 555-4444\tSith Lord, Galactic Empire\t@darthvader\n",
            "Fernandez de la Vega Sanz, Maria Teresa\tmtfvs@spain.gov\t\tFirst Deputy Prime Minister, Spanish Gov\n",
            "\n"
          ]
        }
      ],
      "source": [
        "with open('names.txt') as f:\n",
        "  data = f.read()\n",
        "  print(data)"
      ]
    },
    {
      "cell_type": "markdown",
      "metadata": {
        "id": "VF2kTTJhm8vR"
      },
      "source": [
        "##### re.match()"
      ]
    },
    {
      "cell_type": "code",
      "execution_count": 30,
      "metadata": {
        "id": "annjz6dmm8vR",
        "colab": {
          "base_uri": "https://localhost:8080/"
        },
        "outputId": "d12028ec-636b-4bcd-a853-da81ca25a436"
      },
      "outputs": [
        {
          "output_type": "stream",
          "name": "stdout",
          "text": [
            "<re.Match object; span=(0, 14), match='Hawkins, Derek'>\n"
          ]
        }
      ],
      "source": [
        "print(re.match(r'Hawkins, Derek', data))"
      ]
    },
    {
      "cell_type": "markdown",
      "metadata": {
        "id": "6MZ66tfhm8vR"
      },
      "source": [
        "##### re.search()"
      ]
    },
    {
      "cell_type": "code",
      "execution_count": 32,
      "metadata": {
        "id": "pCY-8I3Wm8vR",
        "colab": {
          "base_uri": "https://localhost:8080/"
        },
        "outputId": "69c4beae-1c0b-41e3-ed41-86ab13b45590"
      },
      "outputs": [
        {
          "output_type": "stream",
          "name": "stdout",
          "text": [
            "<re.Match object; span=(582, 605), match='ripalp@codingtemple.com'>\n"
          ]
        }
      ],
      "source": [
        "print(re.search(r'ripalp@codingtemple.com', data))"
      ]
    },
    {
      "cell_type": "markdown",
      "metadata": {
        "id": "_MWvR35Pm8vS"
      },
      "source": [
        "##### Store the String to a Variable"
      ]
    },
    {
      "cell_type": "code",
      "execution_count": 33,
      "metadata": {
        "id": "74gsKVvlm8vS",
        "colab": {
          "base_uri": "https://localhost:8080/"
        },
        "outputId": "c2cd1340-61d1-46d0-e476-d664aa1d2e4d"
      },
      "outputs": [
        {
          "output_type": "stream",
          "name": "stdout",
          "text": [
            "What would you like to search for...Sith Lord\n",
            "I found your data: ['Sith Lord']\n"
          ]
        }
      ],
      "source": [
        "answer = input(\"What would you like to search for...\")\n",
        "\n",
        "found = re.findall(answer, data)\n",
        "\n",
        "if found:\n",
        "  print(f'I found your data: {found}')\n",
        "else:\n",
        "  print('Nothing here folks')\n",
        "  \n"
      ]
    },
    {
      "cell_type": "markdown",
      "metadata": {
        "id": "jGDKj1sBm8vS"
      },
      "source": [
        "### In-Class Exercise #3 <br>\n",
        "<p>Print each persons name and twitter handle, using groups, should look like:</p>\n",
        "<p>==============<br>\n",
        "   Full Name / Twitter<br>\n",
        "   ==============</p>\n",
        "Derek Hawkins / @derekhawkins\n",
        "\n",
        " Erik Sven-Osterberg / @sverik\n",
        "\n",
        " Ryan Butz / @ryanbutz\n",
        "\n",
        " Example Exampleson / @example\n",
        "\n",
        " Ripal Pael / @ripalp\n",
        "\n",
        " Darth Vader / @darthvader"
      ]
    },
    {
      "cell_type": "code",
      "execution_count": 103,
      "metadata": {
        "scrolled": true,
        "id": "0MRKXEg_m8vS",
        "colab": {
          "base_uri": "https://localhost:8080/"
        },
        "outputId": "d0f52eee-5e50-416f-c7ec-2c001d4b80a6"
      },
      "outputs": [
        {
          "output_type": "stream",
          "name": "stdout",
          "text": [
            "Derek Hawkins / @derekhawkins\n",
            "Sven-Erik Osterberg / @sverik\n",
            "Ryan Butz / @ryanbutz\n",
            "Example Exampleson / @example\n",
            "Ripal Pael / @ripalp\n",
            "Darth Vader / @darthvader\n"
          ]
        }
      ],
      "source": [
        "f = open('names.txt')\n",
        "list_data = f.readlines()\n",
        "\n",
        "personal_info = re.compile(r'(^[A-Z][a-zA-Z]+),\\s([A-Z][a-zA-z]+-?[A-Z]?[a-z]+).+\\s(@[a-z]+)')\n",
        "\n",
        "for person in list_data:\n",
        "  match = personal_info.search(person)\n",
        "  if match:\n",
        "    print(f\"{match.group(2)} {match.group(1)} / {match.group(3)}\")\n",
        "\n",
        "\n"
      ]
    },
    {
      "cell_type": "markdown",
      "metadata": {
        "id": "QH8y7SjEm8vS"
      },
      "source": [
        "### Regex project\n",
        "\n",
        "Use python to read the file regex_test.txt and print the last name on each line using regular expressions and groups (return None for names with no first and last name, or names that aren't properly capitalized)\n",
        "##### Hint: use with open() and readlines()"
      ]
    },
    {
      "cell_type": "code",
      "execution_count": 121,
      "metadata": {
        "id": "dey1A2Gxm8vT",
        "colab": {
          "base_uri": "https://localhost:8080/"
        },
        "outputId": "3592b992-226d-46b0-bdb0-5e0fc278b262"
      },
      "outputs": [
        {
          "output_type": "stream",
          "name": "stdout",
          "text": [
            "Abraham Lincoln\n",
            "Andrew P Garfield\n",
            "Connor Milliken\n",
            "Jordan Alexander Williams\n",
            "None\n",
            "None\n"
          ]
        }
      ],
      "source": [
        "\"\"\"\n",
        "Expected Output\n",
        "Abraham Lincoln\n",
        "Andrew P Garfield\n",
        "Connor Milliken\n",
        "Jordan Alexander Williams\n",
        "None\n",
        "None\n",
        "\"\"\"\n",
        "\n",
        "with open('regex_test.txt') as f:\n",
        "  data = f.readlines()\n",
        "  \n",
        "full_name = re.compile(r'([A-Z][a-z]+).+([A-Z][a-z]+)')\n",
        "\n",
        "for name in data:\n",
        "  match = full_name.search(name)\n",
        "  if match:\n",
        "    print(match.group())\n",
        "  else:\n",
        "    print(match) \n",
        "\n",
        "\n"
      ]
    },
    {
      "cell_type": "code",
      "execution_count": null,
      "metadata": {
        "id": "SgoddHMom8vT"
      },
      "outputs": [],
      "source": []
    }
  ],
  "metadata": {
    "kernelspec": {
      "display_name": "Python 3",
      "language": "python",
      "name": "python3"
    },
    "language_info": {
      "codemirror_mode": {
        "name": "ipython",
        "version": 3
      },
      "file_extension": ".py",
      "mimetype": "text/x-python",
      "name": "python",
      "nbconvert_exporter": "python",
      "pygments_lexer": "ipython3",
      "version": "3.7.6"
    },
    "colab": {
      "provenance": [],
      "collapsed_sections": []
    }
  },
  "nbformat": 4,
  "nbformat_minor": 0
}